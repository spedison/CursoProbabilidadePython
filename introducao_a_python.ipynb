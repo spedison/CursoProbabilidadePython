{
  "nbformat": 4,
  "nbformat_minor": 0,
  "metadata": {
    "colab": {
      "name": "introducao_a_python.ipynb",
      "provenance": [],
      "collapsed_sections": [],
      "include_colab_link": true
    },
    "kernelspec": {
      "name": "python3",
      "display_name": "Python 3"
    }
  },
  "cells": [
    {
      "cell_type": "markdown",
      "metadata": {
        "id": "view-in-github",
        "colab_type": "text"
      },
      "source": [
        "<a href=\"https://colab.research.google.com/github/spedison/CursoProbabilidadePython/blob/master/introducao_a_python.ipynb\" target=\"_parent\"><img src=\"https://colab.research.google.com/assets/colab-badge.svg\" alt=\"Open In Colab\"/></a>"
      ]
    },
    {
      "cell_type": "code",
      "metadata": {
        "id": "jv9pif5NGhV_",
        "colab_type": "code",
        "colab": {
          "base_uri": "https://localhost:8080/",
          "height": 35
        },
        "outputId": "f3ba244c-7f2b-4711-ed77-2c1e7c7c0b50"
      },
      "source": [
        "#Alô Mundo\n",
        "print(\"Alô Mundo\")\n",
        "print(\"Alô Mundo\", 50, \" de \", 100, \"são\", 0.5, \"ou\", '50%')\n",
        "\n"
      ],
      "execution_count": null,
      "outputs": [
        {
          "output_type": "stream",
          "text": [
            "Alô Mundo 50  de  100 são 0.5 ou 50%\n"
          ],
          "name": "stdout"
        }
      ]
    },
    {
      "cell_type": "code",
      "metadata": {
        "id": "HYtEir1oJDyI",
        "colab_type": "code",
        "colab": {
          "base_uri": "https://localhost:8080/",
          "height": 54
        },
        "outputId": "56d87540-b8f6-46d3-f9ad-6abc59867d49"
      },
      "source": [
        "## Variáveis, caixas onde guardamos dados.\n",
        "a = 50\n",
        "b = 100\n",
        "resultado = a / b\n",
        "print(resultado)\n",
        "resultado = a // b\n",
        "print(resultado)"
      ],
      "execution_count": null,
      "outputs": [
        {
          "output_type": "stream",
          "text": [
            "0.5\n",
            "0\n"
          ],
          "name": "stdout"
        }
      ]
    },
    {
      "cell_type": "code",
      "metadata": {
        "id": "IAoqTWmo2O_i",
        "colab_type": "code",
        "colab": {
          "base_uri": "https://localhost:8080/",
          "height": 128
        },
        "outputId": "a48a522a-6a1e-44e6-d618-141ef76b462b"
      },
      "source": [
        "#Tipos de dados\n",
        "a = 10\n",
        "print(a)\n",
        "a = 0.1\n",
        "print(a)\n",
        "a= \"10\"\n",
        "print(a)\n",
        "a= '10'\n",
        "print(a)\n",
        "a = True\n",
        "print(a)\n",
        "a = False\n",
        "print(a)"
      ],
      "execution_count": null,
      "outputs": [
        {
          "output_type": "stream",
          "text": [
            "10\n",
            "0.1\n",
            "10\n",
            "10\n",
            "True\n",
            "False\n"
          ],
          "name": "stdout"
        }
      ]
    },
    {
      "cell_type": "code",
      "metadata": {
        "id": "jdiMp97II1ha",
        "colab_type": "code",
        "colab": {
          "base_uri": "https://localhost:8080/",
          "height": 109
        },
        "outputId": "0d4f1c6e-6e64-4daa-9d9d-e54df5677e51"
      },
      "source": [
        "# Operadores\n",
        "\n",
        "a = 50\n",
        "b = 100\n",
        "c = a + b\n",
        "print(\"Soma\", c)\n",
        "\n",
        "c = a - b\n",
        "print(\"Subtração\", c)\n",
        "\n",
        "c = a * b\n",
        "print(\"Produto\", c)\n",
        "\n",
        "b = 2\n",
        "c = a ** b\n",
        "print(\"Potência\", c)\n",
        "\n",
        "b = 37\n",
        "c = a % b\n",
        "print(\"Resto do produto\", c)\n",
        "\n"
      ],
      "execution_count": null,
      "outputs": [
        {
          "output_type": "stream",
          "text": [
            "Soma 150\n",
            "Subtração -50\n",
            "Produto 5000\n",
            "Potência 2500\n",
            "Resto do produto 13\n"
          ],
          "name": "stdout"
        }
      ]
    },
    {
      "cell_type": "code",
      "metadata": {
        "id": "oZKCnL2FGnTm",
        "colab_type": "code",
        "colab": {
          "base_uri": "https://localhost:8080/",
          "height": 54
        },
        "outputId": "55bf2e5a-d129-4424-fa08-32091fccf3f3"
      },
      "source": [
        "# Operadores 2\n",
        "a = 10\n",
        "a -= 1 # => a = a - 1\n",
        "print(a)\n",
        "a += 1 # => a = a + 1\n",
        "print(a)"
      ],
      "execution_count": null,
      "outputs": [
        {
          "output_type": "stream",
          "text": [
            "9\n",
            "10\n"
          ],
          "name": "stdout"
        }
      ]
    },
    {
      "cell_type": "code",
      "metadata": {
        "id": "7llY49XRKG5z",
        "colab_type": "code",
        "colab": {
          "base_uri": "https://localhost:8080/",
          "height": 54
        },
        "outputId": "8e412a1e-11c3-4e4c-ade8-23dee84d7173"
      },
      "source": [
        "# Operadores 2\n",
        "a = 200\n",
        "print(a)\n",
        "a *= 0.5\n",
        "print(a)\n"
      ],
      "execution_count": null,
      "outputs": [
        {
          "output_type": "stream",
          "text": [
            "200\n",
            "100.0\n"
          ],
          "name": "stdout"
        }
      ]
    },
    {
      "cell_type": "code",
      "metadata": {
        "id": "e0Xac9PJHFTN",
        "colab_type": "code",
        "colab": {
          "base_uri": "https://localhost:8080/",
          "height": 35
        },
        "outputId": "697f06ef-742a-487c-aedb-4ca57b12647e"
      },
      "source": [
        "# Operadores 2\n",
        "a = 10\n",
        "a *= 5\n",
        "## Resto de 50/3 = 16 resto 2\n",
        "a %= 3  \n",
        "\n",
        "a"
      ],
      "execution_count": null,
      "outputs": [
        {
          "output_type": "execute_result",
          "data": {
            "text/plain": [
              "2"
            ]
          },
          "metadata": {
            "tags": []
          },
          "execution_count": 35
        }
      ]
    },
    {
      "cell_type": "code",
      "metadata": {
        "id": "Uhp6peecImjA",
        "colab_type": "code",
        "colab": {
          "base_uri": "https://localhost:8080/",
          "height": 54
        },
        "outputId": "08797c66-60c7-4c0e-f41d-792643ea78fd"
      },
      "source": [
        "# Operadores 2\n",
        "a = 10\n",
        "b = 20\n",
        "print(\"a = \", a , \" - B = \", b)\n",
        "(a, b) = (b, a)\n",
        "print(\"a = \", a , \" - B = \", b)"
      ],
      "execution_count": null,
      "outputs": [
        {
          "output_type": "stream",
          "text": [
            "a =  10  - B =  20\n",
            "a =  20  - B =  10\n"
          ],
          "name": "stdout"
        }
      ]
    },
    {
      "cell_type": "code",
      "metadata": {
        "id": "OQkPip8n4ELr",
        "colab_type": "code",
        "colab": {
          "base_uri": "https://localhost:8080/",
          "height": 91
        },
        "outputId": "1b6c1ab4-7e3e-48a0-dd27-22d1c6f3f986"
      },
      "source": [
        "# Operadores 3 - Operadores Lógicos\n",
        "a = False\n",
        "b = True\n",
        "c = not a \n",
        "print(\"Not a = \", c)\n",
        "c = a and b\n",
        "print(\"a E b = \",c)\n",
        "c = a or b\n",
        "print(\"a OU b = \",c)\n",
        "c = a ^ b\n",
        "print(\"OU a OU b = \",c)"
      ],
      "execution_count": null,
      "outputs": [
        {
          "output_type": "stream",
          "text": [
            "Not a =  True\n",
            "a E b =  False\n",
            "a OU b =  True\n",
            "OU a OU b =  True\n"
          ],
          "name": "stdout"
        }
      ]
    },
    {
      "cell_type": "code",
      "metadata": {
        "id": "SuShL97Q4_-i",
        "colab_type": "code",
        "colab": {
          "base_uri": "https://localhost:8080/",
          "height": 109
        },
        "outputId": "bf364bb6-fd14-4802-9212-58b37ea93ea9"
      },
      "source": [
        "# Operadores 3 - Operadores Lógicos\n",
        "a = 10\n",
        "b = 30\n",
        "c = -30\n",
        "\n",
        "d = a >= 10 and b < 50\n",
        "print(\"a >= 10 and b < 50 => \", d)\n",
        "\n",
        "d = a >= 10 and c < 0\n",
        "print(\"a >= 10 and c < 0 => \", d)\n",
        "\n",
        "d = c == -30\n",
        "print(\"c == -30 => \", d)\n",
        "\n",
        "d = a == -30\n",
        "print(\"a == -30 => \", d)\n",
        "\n",
        "d = a != 15\n",
        "print(\"a != 15 => \", d)\n"
      ],
      "execution_count": null,
      "outputs": [
        {
          "output_type": "stream",
          "text": [
            "a >= 10 and b < 50 =>  True\n",
            "a >= 10 and c < 0 =>  True\n",
            "c == -30 =>  True\n",
            "a == -30 =>  False\n",
            "a != 15 =>  True\n"
          ],
          "name": "stdout"
        }
      ]
    },
    {
      "cell_type": "code",
      "metadata": {
        "id": "VMs-dmOrKikL",
        "colab_type": "code",
        "colab": {
          "base_uri": "https://localhost:8080/",
          "height": 54
        },
        "outputId": "86c19493-4872-46d8-ae3b-9746f6070749"
      },
      "source": [
        "# Comparando Variáveis\n",
        "a = 18\n",
        "if a % 2 == 0 :\n",
        "  print(\"numero par\")\n",
        "else:\n",
        "  print(\"numero impar\")  \n",
        "\n",
        "if a > 10 and a % 3 == 0 :\n",
        "  print(\"maior que 10 multiplo de 3\")\n",
        "else: \n",
        "  if a < 10:\n",
        "    print(\"menor que 10\")  "
      ],
      "execution_count": null,
      "outputs": [
        {
          "output_type": "stream",
          "text": [
            "numero par\n",
            "maior que 10 multiplo de 3\n"
          ],
          "name": "stdout"
        }
      ]
    },
    {
      "cell_type": "code",
      "metadata": {
        "id": "3syHY_1qIbj6",
        "colab_type": "code",
        "colab": {
          "base_uri": "https://localhost:8080/",
          "height": 183
        },
        "outputId": "7d8b128f-0d9b-422d-f3bf-84327af97424"
      },
      "source": [
        "# Repetindo com For\n",
        "for i in range(1,10,1):\n",
        "  print(\"i = \", i)"
      ],
      "execution_count": null,
      "outputs": [
        {
          "output_type": "stream",
          "text": [
            "i =  1\n",
            "i =  2\n",
            "i =  3\n",
            "i =  4\n",
            "i =  5\n",
            "i =  6\n",
            "i =  7\n",
            "i =  8\n",
            "i =  9\n"
          ],
          "name": "stdout"
        }
      ]
    },
    {
      "cell_type": "code",
      "metadata": {
        "id": "D-yeLpa0FBmv",
        "colab_type": "code",
        "colab": {
          "base_uri": "https://localhost:8080/",
          "height": 35
        },
        "outputId": "32cff2a3-5f17-48fe-f729-78d662e76bd1"
      },
      "source": [
        "# Repetindo com For\n",
        "for i in range(1,150,10):\n",
        "  print(\"i = \", i, end=\",  \", sep=\"\")"
      ],
      "execution_count": null,
      "outputs": [
        {
          "output_type": "stream",
          "text": [
            "i = 1,  i = 11,  i = 21,  i = 31,  i = 41,  i = 51,  i = 61,  i = 71,  i = 81,  i = 91,  i = 101,  i = 111,  i = 121,  i = 131,  i = 141,  "
          ],
          "name": "stdout"
        }
      ]
    },
    {
      "cell_type": "code",
      "metadata": {
        "id": "gEEBz8V_FYxd",
        "colab_type": "code",
        "colab": {
          "base_uri": "https://localhost:8080/",
          "height": 35
        },
        "outputId": "922e433e-9e43-4df3-ab9d-76e082f2905f"
      },
      "source": [
        "# Repetindo com For\n",
        "print(list(range(10)))"
      ],
      "execution_count": null,
      "outputs": [
        {
          "output_type": "stream",
          "text": [
            "[0, 1, 2, 3, 4, 5, 6, 7, 8, 9]\n"
          ],
          "name": "stdout"
        }
      ]
    },
    {
      "cell_type": "code",
      "metadata": {
        "id": "YfRSbaldIiJY",
        "colab_type": "code",
        "colab": {
          "base_uri": "https://localhost:8080/",
          "height": 202
        },
        "outputId": "1c2d31d5-340b-4b06-8e66-8c789fef910c"
      },
      "source": [
        "# Arrays\n",
        "ar = ['10', 20, \"555\"]\n",
        "ar.append(55)\n",
        "print(\"tudo de uma vez\", ar)\n",
        "del (ar[0])\n",
        "print(\"tudo de uma vez\", ar)\n",
        "print(\"Um elemento [0]\", ar[0])\n",
        "print(\"Um elemento [1]\", ar[1])\n",
        "\n",
        "for i in ar:\n",
        "  print(i)\n",
        "  print(\"-------\")\n"
      ],
      "execution_count": null,
      "outputs": [
        {
          "output_type": "stream",
          "text": [
            "tudo de uma vez ['10', 20, '555', 55]\n",
            "tudo de uma vez [20, '555', 55]\n",
            "Um elemento [0] 20\n",
            "Um elemento [1] 555\n",
            "20\n",
            "-------\n",
            "555\n",
            "-------\n",
            "55\n",
            "-------\n"
          ],
          "name": "stdout"
        }
      ]
    },
    {
      "cell_type": "code",
      "metadata": {
        "id": "9KGnm-OHIVUB",
        "colab_type": "code",
        "colab": {
          "base_uri": "https://localhost:8080/",
          "height": 128
        },
        "outputId": "b58d4eb8-6805-46a7-8441-f6f0e9acbc47"
      },
      "source": [
        "# Arrays\n",
        "a = []\n",
        "b = []\n",
        "c = []\n",
        "for i in range(1,10,1):\n",
        "  a.append(i)\n",
        "  b.append(i**2)\n",
        "  c.append([i, i**2])\n",
        "\n",
        "print(a)\n",
        "print(b)\n",
        "print(c)\n",
        "print(a[3])\n",
        "print(b[3])\n",
        "print(c[1][1])"
      ],
      "execution_count": null,
      "outputs": [
        {
          "output_type": "stream",
          "text": [
            "[1, 2, 3, 4, 5, 6, 7, 8, 9]\n",
            "[1, 4, 9, 16, 25, 36, 49, 64, 81]\n",
            "[[1, 1], [2, 4], [3, 9], [4, 16], [5, 25], [6, 36], [7, 49], [8, 64], [9, 81]]\n",
            "4\n",
            "16\n",
            "4\n"
          ],
          "name": "stdout"
        }
      ]
    },
    {
      "cell_type": "code",
      "metadata": {
        "id": "SuTM6aqjFyAW",
        "colab_type": "code",
        "colab": {
          "base_uri": "https://localhost:8080/",
          "height": 54
        },
        "outputId": "a8b66ba2-929c-4d34-9651-62871bc467a1"
      },
      "source": [
        "# Arrays 2 (Slice)\n",
        "a = []\n",
        "for i in range(1,1500,15):\n",
        "  a.append(i)\n",
        "print(len(a)) \n",
        "print(\"Primeiro = \",a[0], \", Último\", a[-1], \" OU \", a[len(a)-1]) "
      ],
      "execution_count": null,
      "outputs": [
        {
          "output_type": "stream",
          "text": [
            "100\n",
            "Primeiro =  1 , Último 1486  OU  1486\n"
          ],
          "name": "stdout"
        }
      ]
    },
    {
      "cell_type": "code",
      "metadata": {
        "id": "13GGgVPODrav",
        "colab_type": "code",
        "colab": {
          "base_uri": "https://localhost:8080/",
          "height": 129
        },
        "outputId": "b16fa7a3-3fc2-4cb8-c96f-85851c10c1ec"
      },
      "source": [
        "# Arrays 2 (Slice)\n",
        "#Slice com arrays\n",
        "a = []\n",
        "for i in range(1,100,6):\n",
        "  a.append(i)\n",
        "print(a)  \n",
        "print(a[98:])\n",
        "print(a[0:10:2])\n",
        "print(a[-10:-1])\n",
        "print(a[-1:-10:-1])"
      ],
      "execution_count": null,
      "outputs": [
        {
          "output_type": "stream",
          "text": [
            "[1, 2, 3, 4, 5, 6, 7, 8, 9, 10, 11, 12, 13, 14, 15, 16, 17, 18, 19, 20, 21, 22, 23, 24, 25, 26, 27, 28, 29, 30, 31, 32, 33, 34, 35, 36, 37, 38, 39, 40, 41, 42, 43, 44, 45, 46, 47, 48, 49, 50, 51, 52, 53, 54, 55, 56, 57, 58, 59, 60, 61, 62, 63, 64, 65, 66, 67, 68, 69, 70, 71, 72, 73, 74, 75, 76, 77, 78, 79, 80, 81, 82, 83, 84, 85, 86, 87, 88, 89, 90, 91, 92, 93, 94, 95, 96, 97, 98, 99]\n",
            "[99]\n",
            "[1, 3, 5, 7, 9]\n",
            "[90, 91, 92, 93, 94, 95, 96, 97, 98]\n",
            "[99, 98, 97, 96, 95, 94, 93, 92, 91]\n"
          ],
          "name": "stdout"
        }
      ]
    },
    {
      "cell_type": "code",
      "metadata": {
        "id": "m-k7J4wFH_wT",
        "colab_type": "code",
        "colab": {
          "base_uri": "https://localhost:8080/",
          "height": 54
        },
        "outputId": "14a9190a-3f90-47c9-ea77-18c155a52622"
      },
      "source": [
        "# Arrays 2 (Slice)\n",
        "## Macete usando o Slice\n",
        "a = []\n",
        "for i in range(1,100,6):\n",
        "  a.append(i+80)\n",
        "print(a[0:4])\n",
        "a[0:2] = [1,1]\n",
        "print(a[0:4])\n"
      ],
      "execution_count": null,
      "outputs": [
        {
          "output_type": "stream",
          "text": [
            "[81, 87, 93, 99]\n",
            "[1, 1, 93, 99]\n"
          ],
          "name": "stdout"
        }
      ]
    },
    {
      "cell_type": "code",
      "metadata": {
        "id": "4Ly9h65gISYB",
        "colab_type": "code",
        "colab": {
          "base_uri": "https://localhost:8080/",
          "height": 35
        },
        "outputId": "142625ec-d043-435b-da89-12c39a4767bd"
      },
      "source": [
        "# Repetindo ... 1, 2, 3 Ação\n",
        "a = 15\n",
        "while a > 3:\n",
        "  a -= 1\n",
        "  print(a, end=\",\")"
      ],
      "execution_count": null,
      "outputs": [
        {
          "output_type": "stream",
          "text": [
            "14,13,12,11,10,9,8,7,6,5,4,3,"
          ],
          "name": "stdout"
        }
      ]
    },
    {
      "cell_type": "code",
      "metadata": {
        "id": "7YsbXRl-MEhV",
        "colab_type": "code",
        "colab": {
          "base_uri": "https://localhost:8080/",
          "height": 35
        },
        "outputId": "452dc320-3725-4f14-f043-4c061772d145"
      },
      "source": [
        "# Repetindo ... 1, 2, 3 Ação\n",
        "a = 50\n",
        "while a >= 3:\n",
        "  a -= 1\n",
        "  if a % 4 == 0:\n",
        "    print(a, end=\",\")"
      ],
      "execution_count": null,
      "outputs": [
        {
          "output_type": "stream",
          "text": [
            "48,44,40,36,32,28,24,20,16,12,8,4,"
          ],
          "name": "stdout"
        }
      ]
    },
    {
      "cell_type": "code",
      "metadata": {
        "id": "X5RhG0oTQjsp",
        "colab_type": "code",
        "colab": {
          "base_uri": "https://localhost:8080/",
          "height": 35
        },
        "outputId": "6895fc47-921f-4d35-c255-6a93a58f153f"
      },
      "source": [
        "# DESVIANDO O FLUXO\n",
        "conta = 0\n",
        "for i in range(100):\n",
        "  ## Somente contabiliza os Pares.\n",
        "  if i % 2 == 0:\n",
        "    continue\n",
        "  ## se o item multiplicado pelo item da matri\n",
        "  if i * 15 > 100:\n",
        "    break\n",
        "  else:\n",
        "    conta += 1\n",
        "\n",
        "print(f\"conta = {conta}\")"
      ],
      "execution_count": null,
      "outputs": [
        {
          "output_type": "stream",
          "text": [
            "conta = 3\n"
          ],
          "name": "stdout"
        }
      ]
    },
    {
      "cell_type": "code",
      "metadata": {
        "id": "nh_fbrvX_kfh",
        "colab_type": "code",
        "colab": {
          "base_uri": "https://localhost:8080/",
          "height": 91
        },
        "outputId": "2e112d37-9d86-446b-fec2-05ff3b7c55b8"
      },
      "source": [
        "# Tuplas com trocas\n",
        "t1 = (10, 20, 30)\n",
        "print(t1)\n",
        "print(t1[0]) \n",
        "## É constante, não pode adicionar ou remover elementos!\n",
        "(a, b, c) = t1\n",
        "print(\"a = \", a, \" ; b = \", b, \" ; c = \", c)\n",
        "(a , c) = (c, a)\n",
        "print(\"a = \", a, \" ; b = \", b, \" ; c = \", c)"
      ],
      "execution_count": null,
      "outputs": [
        {
          "output_type": "stream",
          "text": [
            "(10, 20, 30)\n",
            "10\n",
            "a =  10  ; b =  20  ; c =  30\n",
            "a =  30  ; b =  20  ; c =  10\n"
          ],
          "name": "stdout"
        }
      ]
    },
    {
      "cell_type": "code",
      "metadata": {
        "id": "jHkXZfwP-5Nq",
        "colab_type": "code",
        "colab": {
          "base_uri": "https://localhost:8080/",
          "height": 54
        },
        "outputId": "04dfffe1-331d-45de-e3fe-2afabeee0e37"
      },
      "source": [
        "# Comprehensions\n",
        "k = [i for i in range(1,11)]\n",
        "print (k)\n",
        "k = [i**2 for i in range(1,11)]\n",
        "print (k)"
      ],
      "execution_count": null,
      "outputs": [
        {
          "output_type": "stream",
          "text": [
            "[1, 2, 3, 4, 5, 6, 7, 8, 9, 10]\n",
            "[1, 4, 9, 16, 25, 36, 49, 64, 81, 100]\n"
          ],
          "name": "stdout"
        }
      ]
    },
    {
      "cell_type": "code",
      "metadata": {
        "id": "KGeU-dxoJPtu",
        "colab_type": "code",
        "colab": {
          "base_uri": "https://localhost:8080/",
          "height": 35
        },
        "outputId": "bd03b348-e97d-48ae-d2ed-d04395336aa0"
      },
      "source": [
        "# Comprehensions\n",
        "k = [[i, i**2] for i in range(3,100,15)]\n",
        "print (k)"
      ],
      "execution_count": null,
      "outputs": [
        {
          "output_type": "stream",
          "text": [
            "[[3, 9], [18, 324], [33, 1089], [48, 2304], [63, 3969], [78, 6084], [93, 8649]]\n"
          ],
          "name": "stdout"
        }
      ]
    },
    {
      "cell_type": "code",
      "metadata": {
        "id": "iAfdY5pkKDRl",
        "colab_type": "code",
        "colab": {
          "base_uri": "https://localhost:8080/",
          "height": 35
        },
        "outputId": "415912d4-4ce6-44ce-caa3-916276458a60"
      },
      "source": [
        "# Comprehensions\n",
        "k = [[i, i**2] for i in range(3,100,15) if i % 2 == 0]\n",
        "print (k)"
      ],
      "execution_count": null,
      "outputs": [
        {
          "output_type": "stream",
          "text": [
            "[[18, 324], [48, 2304], [78, 6084]]\n"
          ],
          "name": "stdout"
        }
      ]
    },
    {
      "cell_type": "code",
      "metadata": {
        "id": "tWk-NCPLDItZ",
        "colab_type": "code",
        "colab": {
          "base_uri": "https://localhost:8080/",
          "height": 295
        },
        "outputId": "627a9bdd-8445-4871-b036-dd7efc32e3ff"
      },
      "source": [
        "# Graficando Dados\n",
        "# Usando as bibliotecas de gráficos\n",
        "import matplotlib.pyplot as plt\n",
        "\n",
        "x = [ i/1000 for i in range(0,10000)]\n",
        "y = [ i**2    for i in x]\n",
        "plt.title('Gráfico de 2o Grau')\n",
        "plt.xlabel('X')\n",
        "plt.ylabel('Y = X^2')\n",
        "plt.scatter(x, y, color='blue', marker='+')\n",
        "plt.show()\n"
      ],
      "execution_count": null,
      "outputs": [
        {
          "output_type": "display_data",
          "data": {
            "image/png": "[encoded data removed]",
            "text/plain": [
              "<Figure size 432x288 with 1 Axes>"
            ]
          },
          "metadata": {
            "tags": [],
            "needs_background": "light"
          }
        }
      ]
    },
    {
      "cell_type": "code",
      "metadata": {
        "id": "NvcGFFnwOfKw",
        "colab_type": "code",
        "colab": {
          "base_uri": "https://localhost:8080/",
          "height": 295
        },
        "outputId": "4c317aab-e025-4efd-e107-b21ddfc7a648"
      },
      "source": [
        "# Graficando Dados\n",
        "# Usando as bibliotecas de gráficos\n",
        "import matplotlib.pyplot as plt\n",
        "\n",
        "x = [ i/15 for i in range(0,50)]\n",
        "y = [ i**2    for i in x]\n",
        "plt.title('Gráfico de 2o Grau')\n",
        "plt.xlabel('X')\n",
        "plt.ylabel('Y = X^2')\n",
        "plt.plot(x, y, color='red', marker='*')\n",
        "plt.show()"
      ],
      "execution_count": null,
      "outputs": [
        {
          "output_type": "display_data",
          "data": {
            "image/png": "[encoded data removed]",
            "text/plain": [
              "<Figure size 432x288 with 1 Axes>"
            ]
          },
          "metadata": {
            "tags": [],
            "needs_background": "light"
          }
        }
      ]
    },
    {
      "cell_type": "code",
      "metadata": {
        "id": "XpTjYfTJBlQO",
        "colab_type": "code",
        "colab": {
          "base_uri": "https://localhost:8080/",
          "height": 279
        },
        "outputId": "28c33c60-4bb3-4b31-e117-4fa4f0ed6770"
      },
      "source": [
        "# Graficando Dados em Barra\n",
        "linguagem = ['Python' , 'R' , 'Julia', 'Java', 'C', 'C++'] \n",
        "popularidade = [100, 70, 40, 90, 70, 85] \n",
        "import matplotlib.pyplot as plt\n",
        "plt.bar(linguagem, popularidade, color = ['green', 'blue', 'red'])\n",
        "plt.ylabel('Popularidade')\n",
        "plt.xlabel('Linguagem')\n",
        "plt.show()"
      ],
      "execution_count": null,
      "outputs": [
        {
          "output_type": "display_data",
          "data": {
            "image/png": "[encoded data removed]",
            "text/plain": [
              "<Figure size 432x288 with 1 Axes>"
            ]
          },
          "metadata": {
            "tags": [],
            "needs_background": "light"
          }
        }
      ]
    },
    {
      "cell_type": "code",
      "metadata": {
        "id": "3OfF_o2nChEG",
        "colab_type": "code",
        "colab": {
          "base_uri": "https://localhost:8080/",
          "height": 269
        },
        "outputId": "2d10e903-a71c-4593-f08f-799cd81889b0"
      },
      "source": [
        "# Graficando Dados em Pizza\n",
        "linguagem = ['Python' , 'R' , 'Julia', 'Java', 'C', 'C++'] \n",
        "popularidade = [100, 70, 40, 90, 70, 85] \n",
        "import matplotlib.pyplot as plt\n",
        "plt.title('Popularidade das Linguagens de Programação', fontdict={'fontsize': 20})\n",
        "plt.pie(popularidade, labels=linguagem, autopct='%1.2f%%', \n",
        "        colors=['lightblue', 'lightgreen', 'yellow', 'red', 'blue', 'green'])\n",
        "plt.show()"
      ],
      "execution_count": null,
      "outputs": [
        {
          "output_type": "display_data",
          "data": {
            "image/png": "[encoded data removed]",
            "text/plain": [
              "<Figure size 432x288 with 1 Axes>"
            ]
          },
          "metadata": {
            "tags": []
          }
        }
      ]
    },
    {
      "cell_type": "code",
      "metadata": {
        "id": "P61DXzBjDka7",
        "colab_type": "code",
        "colab": {
          "base_uri": "https://localhost:8080/",
          "height": 109
        },
        "outputId": "1184951d-86af-4e5b-f384-169c8cafa696"
      },
      "source": [
        "# Números Aleatórios\n",
        "import random as rnd\n",
        "\n",
        "## Se vc definir uma semente fixa, o gerador sempre gerará uma sequência definida.\n",
        "## rnd.seed(100)\n",
        "rnd.seed() \n",
        " \n",
        "print(\"Primeiro Número Aleatório :\", rnd.random())\n",
        " \n",
        "print(\"Segundo Número Aleatório :\", rnd.random())\n",
        "\n",
        "print(\"Número inteiro de 0 a 100 => \", rnd.randrange(100))\n",
        "\n",
        "print(\"Número inteiro de 30 a 50 => \", rnd.randrange(30,50))\n",
        "\n",
        "# Vetor com 30 números aleatórios entre 1 e 6\n",
        "k = [rnd.randrange(1,7) for i in range(15) ]\n",
        "print(k)"
      ],
      "execution_count": null,
      "outputs": [
        {
          "output_type": "stream",
          "text": [
            "Primeiro Número Aleatório : 0.9429836930723111\n",
            "Segundo Número Aleatório : 0.016658672437460886\n",
            "Número inteiro de 0 a 100 =>  1\n",
            "Número inteiro de 30 a 50 =>  37\n",
            "[5, 1, 5, 4, 6, 2, 1, 4, 3, 2, 5, 3, 4, 2, 3]\n"
          ],
          "name": "stdout"
        }
      ]
    },
    {
      "cell_type": "code",
      "metadata": {
        "id": "nc4d3OIvHBAy",
        "colab_type": "code",
        "colab": {
          "base_uri": "https://localhost:8080/",
          "height": 295
        },
        "outputId": "9ed17918-768a-44e7-d3c6-48c229c31b02"
      },
      "source": [
        "# Graficando Números Aleatórios\n",
        "# Usando as bibliotecas de gráficos\n",
        "import matplotlib.pyplot as plt\n",
        "import random as rnd\n",
        "\n",
        "rnd.random()\n",
        "\n",
        "x = [ rnd.randint(0,500) for i in range(3000)]\n",
        "y = [ rnd.randint(0,500) for i in x]\n",
        "plt.title('Gráfico de Coordenadas inteiras aleatórias')\n",
        "plt.xlabel('X')\n",
        "plt.ylabel('Y')\n",
        "plt.scatter(x, y, color='blue', marker='+')\n",
        "plt.show()"
      ],
      "execution_count": null,
      "outputs": [
        {
          "output_type": "display_data",
          "data": {
            "image/png": "[encoded data removed]",
            "text/plain": [
              "<Figure size 432x288 with 1 Axes>"
            ]
          },
          "metadata": {
            "tags": [],
            "needs_background": "light"
          }
        }
      ]
    },
    {
      "cell_type": "code",
      "metadata": {
        "id": "apS-K38YTg1m",
        "colab_type": "code",
        "colab": {
          "base_uri": "https://localhost:8080/",
          "height": 313
        },
        "outputId": "2ad2be37-4ff1-473d-d5c3-8aedfeae4ad4"
      },
      "source": [
        "# Graficando Números Aleatórios\n",
        "# Usando as bibliotecas de gráficos\n",
        "import matplotlib.pyplot as plt\n",
        "import random as rnd\n",
        "import math\n",
        "\n",
        "rnd.random()\n",
        "\n",
        "x = [ (2 * rnd.random() - 1) for i in range(7000)]\n",
        "y = [ (2 * rnd.random() - 1) for i in x]\n",
        "\n",
        "xVermelho = []\n",
        "yVermelho = []\n",
        "\n",
        "xAzul = []\n",
        "yAzul = []\n",
        "\n",
        "for i in range (len(x)):\n",
        "  if x[i]**2 + y[i]**2 <= 1:\n",
        "    xVermelho.append(x[i])\n",
        "    yVermelho.append(y[i])\n",
        "  else:\n",
        "    xAzul.append(x[i])\n",
        "    yAzul.append(y[i])\n",
        "\n",
        "plt.title('Gráfico - Calculando a área do Círculo Usando Monte Carlo')\n",
        "plt.xlabel('X')\n",
        "plt.ylabel('Y')\n",
        "plt.scatter(xAzul, yAzul, color='blue', marker='+')\n",
        "plt.scatter(xVermelho, yVermelho, color='red', marker='.')\n",
        "plt.show()\n",
        "estimado = 2 * 2 * (len(xVermelho)/len(x))\n",
        "print(f\"Área aproximada do Círculo real = {math.pi} e estimado é {estimado}\")"
      ],
      "execution_count": null,
      "outputs": [
        {
          "output_type": "display_data",
          "data": {
            "image/png": "[encoded data removed]",
            "text/plain": [
              "<Figure size 432x288 with 1 Axes>"
            ]
          },
          "metadata": {
            "tags": [],
            "needs_background": "light"
          }
        },
        {
          "output_type": "stream",
          "text": [
            "Área aproximada do Círculo real = 3.141592653589793 e estimado é 3.137142857142857\n"
          ],
          "name": "stdout"
        }
      ]
    },
    {
      "cell_type": "code",
      "metadata": {
        "id": "Mo6PNOYeN7Ex",
        "colab_type": "code",
        "colab": {
          "base_uri": "https://localhost:8080/",
          "height": 202
        },
        "outputId": "c14c7e8e-016c-4f00-dfaf-455ac6c1fef5"
      },
      "source": [
        "# Lendo Arquivos\n",
        "import csv\n",
        "\n",
        "with open(\"lancamento_dados.csv\") as file:\n",
        "    reader = csv.reader(file, delimiter = \";\")\n",
        "    next(reader)  # Pula linha 1\n",
        "    for (lancamento, valor) in reader:\n",
        "        print(f\"O Lançamento {lancamento} tem o valor {valor}\")      "
      ],
      "execution_count": null,
      "outputs": [
        {
          "output_type": "stream",
          "text": [
            "O Lançamento 1 tem o valor 1\n",
            "O Lançamento 2 tem o valor 2\n",
            "O Lançamento 3 tem o valor 5\n",
            "O Lançamento 4 tem o valor 5\n",
            "O Lançamento 5 tem o valor 4\n",
            "O Lançamento 6 tem o valor 3\n",
            "O Lançamento 7 tem o valor 2\n",
            "O Lançamento 8 tem o valor 6\n",
            "O Lançamento 9 tem o valor 1\n",
            "O Lançamento 10 tem o valor 3\n"
          ],
          "name": "stdout"
        }
      ]
    },
    {
      "cell_type": "code",
      "metadata": {
        "id": "ziCVU4xyN6bI",
        "colab_type": "code",
        "colab": {
          "base_uri": "https://localhost:8080/",
          "height": 165
        },
        "outputId": "53ad1f02-6c88-4230-fe02-f8032807aeb8"
      },
      "source": [
        "# Lendo Arquivos (Filtro)\n",
        "import csv\n",
        "\n",
        "with open(\"lancamento_dados.csv\") as file:\n",
        "    reader = csv.reader(file, delimiter = \";\")\n",
        "    next(reader)  # Pula linha 1\n",
        "    for (lancamento, valor) in reader:\n",
        "      if int(valor) != 3 :\n",
        "        print(f\"O Lançamento {lancamento} tem o valor {valor}\")      "
      ],
      "execution_count": null,
      "outputs": [
        {
          "output_type": "stream",
          "text": [
            "O Lançamento 1 tem o valor 1\n",
            "O Lançamento 2 tem o valor 2\n",
            "O Lançamento 3 tem o valor 5\n",
            "O Lançamento 4 tem o valor 5\n",
            "O Lançamento 5 tem o valor 4\n",
            "O Lançamento 7 tem o valor 2\n",
            "O Lançamento 8 tem o valor 6\n",
            "O Lançamento 9 tem o valor 1\n"
          ],
          "name": "stdout"
        }
      ]
    },
    {
      "cell_type": "code",
      "metadata": {
        "id": "KkRtRdiOEl2q",
        "colab_type": "code",
        "colab": {}
      },
      "source": [
        "# Escrevendo em arquivos.\n",
        "\n",
        "arquivo = open(\"escrita_arquivo_teste.txt\", \"w\")\n",
        "\n",
        "arquivo.write(\"Essa é a primeira linha escrita por nós. \\n\")\n",
        "arquivo.write(\"Essa é a nossa segunda linha.\")\n",
        "arquivo.write(\"Essa deveria ser a terceira linha porém ainda é a segunda. \\n\")\n",
        "arquivo.write(\"Essa sim é a terceira.\")\n",
        "\n",
        "arquivo.close()"
      ],
      "execution_count": null,
      "outputs": []
    },
    {
      "cell_type": "code",
      "metadata": {
        "id": "f-8DwBcJFXoS",
        "colab_type": "code",
        "colab": {
          "base_uri": "https://localhost:8080/",
          "height": 275
        },
        "outputId": "059e2544-0506-463b-bb76-f26327a14bec"
      },
      "source": [
        "# Outra forma de ler o arquivo recem criado\n",
        "arquivo = open(\"escrita_arquivo_teste.txt\",\"r\")\n",
        "\n",
        "print (arquivo.read())\n",
        "\n",
        "arquivo.close()"
      ],
      "execution_count": null,
      "outputs": [
        {
          "output_type": "stream",
          "text": [
            "Essa é a primeira linha escrita por nós. \n",
            "Essa é a nossa segunda linha.Essa deveria ser a terceira linha porém ainda é a segunda. \n",
            "Essa sim é a terceira.Essa é a primeira linha escrita por nós. \n",
            "Essa é a nossa segunda linha.Essa deveria ser a terceira linha porém ainda é a segunda. \n",
            "Essa sim é a terceira.Essa é a primeira linha escrita por nós. \n",
            "Essa é a nossa segunda linha.Essa deveria ser a terceira linha porém ainda é a segunda. \n",
            "Essa sim é a terceira.Essa é a primeira linha escrita por nós. \n",
            "Essa é a nossa segunda linha.Essa deveria ser a terceira linha porém ainda é a segunda. \n",
            "Essa sim é a terceira.Essa é a primeira linha escrita por nós. \n",
            "Essa é a nossa segunda linha.Essa deveria ser a terceira linha porém ainda é a segunda. \n",
            "Essa sim é a terceira.\n",
            "sasasasasasasas\n",
            "asasasasasasas\n",
            "\n"
          ],
          "name": "stdout"
        }
      ]
    },
    {
      "cell_type": "code",
      "metadata": {
        "id": "g0jS-lcgRfow",
        "colab_type": "code",
        "colab": {
          "base_uri": "https://localhost:8080/",
          "height": 35
        },
        "outputId": "ffc44f36-9471-4c2d-c505-aa2457ee05ef"
      },
      "source": [
        "## Começando usar funções em Python\n",
        "\n",
        "def calculaQuadrado (x):\n",
        "  return x ** 2 \n",
        "  ## retorna x * x\n",
        "\n",
        "print(\"Quadrado de 10 = \", calculaQuadrado(10),\" -  Quadrado de 15 = \", calculaQuadrado(15)) \n"
      ],
      "execution_count": null,
      "outputs": [
        {
          "output_type": "stream",
          "text": [
            "Quadrado de 10 =  100  -  Quadrado de 15 =  225\n"
          ],
          "name": "stdout"
        }
      ]
    },
    {
      "cell_type": "code",
      "metadata": {
        "id": "14zNNJVURdxo",
        "colab_type": "code",
        "colab": {
          "base_uri": "https://localhost:8080/",
          "height": 92
        },
        "outputId": "96909bb5-7ad9-48d7-f8ff-edc1ba6922c6"
      },
      "source": [
        "## Começando usar funções em Python\n",
        "\n",
        "def calculaQuadrado1 (x):\n",
        "  return x ** 2 \n",
        "  ## retorna x * x\n",
        "\n",
        "def calculaQuadradoArray (xi = 1, xf=100, passo=1):\n",
        "  retorno = []\n",
        "  x = xi\n",
        "  while (x <= xf):\n",
        "    retorno.append([x,calculaQuadrado1(x)])\n",
        "    x += passo\n",
        "  return retorno\n",
        "\n",
        "print(\"Usando os padrões : \", calculaQuadradoArray())\n",
        "print(\"Entre 0 e 50 de 2 em 2 : \", calculaQuadradoArray(0, 50, 2))\n",
        "print(\"Entre 0 e 5 de 0.2 em 0.2 : \", calculaQuadradoArray(0, 5, 0.2))\n"
      ],
      "execution_count": null,
      "outputs": [
        {
          "output_type": "stream",
          "text": [
            "Usando os padrões :  [[1, 1], [2, 4], [3, 9], [4, 16], [5, 25], [6, 36], [7, 49], [8, 64], [9, 81], [10, 100], [11, 121], [12, 144], [13, 169], [14, 196], [15, 225], [16, 256], [17, 289], [18, 324], [19, 361], [20, 400], [21, 441], [22, 484], [23, 529], [24, 576], [25, 625], [26, 676], [27, 729], [28, 784], [29, 841], [30, 900], [31, 961], [32, 1024], [33, 1089], [34, 1156], [35, 1225], [36, 1296], [37, 1369], [38, 1444], [39, 1521], [40, 1600], [41, 1681], [42, 1764], [43, 1849], [44, 1936], [45, 2025], [46, 2116], [47, 2209], [48, 2304], [49, 2401], [50, 2500], [51, 2601], [52, 2704], [53, 2809], [54, 2916], [55, 3025], [56, 3136], [57, 3249], [58, 3364], [59, 3481], [60, 3600], [61, 3721], [62, 3844], [63, 3969], [64, 4096], [65, 4225], [66, 4356], [67, 4489], [68, 4624], [69, 4761], [70, 4900], [71, 5041], [72, 5184], [73, 5329], [74, 5476], [75, 5625], [76, 5776], [77, 5929], [78, 6084], [79, 6241], [80, 6400], [81, 6561], [82, 6724], [83, 6889], [84, 7056], [85, 7225], [86, 7396], [87, 7569], [88, 7744], [89, 7921], [90, 8100], [91, 8281], [92, 8464], [93, 8649], [94, 8836], [95, 9025], [96, 9216], [97, 9409], [98, 9604], [99, 9801], [100, 10000]]\n",
            "Entre 0 e 50 de 2 em 2 :  [[0, 0], [2, 4], [4, 16], [6, 36], [8, 64], [10, 100], [12, 144], [14, 196], [16, 256], [18, 324], [20, 400], [22, 484], [24, 576], [26, 676], [28, 784], [30, 900], [32, 1024], [34, 1156], [36, 1296], [38, 1444], [40, 1600], [42, 1764], [44, 1936], [46, 2116], [48, 2304], [50, 2500]]\n",
            "Entre 0 e 5 de 0.2 em 0.2 :  [[0, 0], [0.2, 0.04000000000000001], [0.4, 0.16000000000000003], [0.6000000000000001, 0.3600000000000001], [0.8, 0.6400000000000001], [1.0, 1.0], [1.2, 1.44], [1.4, 1.9599999999999997], [1.5999999999999999, 2.5599999999999996], [1.7999999999999998, 3.2399999999999993], [1.9999999999999998, 3.999999999999999], [2.1999999999999997, 4.839999999999999], [2.4, 5.76], [2.6, 6.760000000000001], [2.8000000000000003, 7.840000000000002], [3.0000000000000004, 9.000000000000004], [3.2000000000000006, 10.240000000000004], [3.400000000000001, 11.560000000000006], [3.600000000000001, 12.960000000000006], [3.800000000000001, 14.440000000000008], [4.000000000000001, 16.000000000000007], [4.200000000000001, 17.640000000000008], [4.400000000000001, 19.36000000000001], [4.600000000000001, 21.160000000000014], [4.800000000000002, 23.040000000000017]]\n"
          ],
          "name": "stdout"
        }
      ]
    },
    {
      "cell_type": "code",
      "metadata": {
        "id": "OUaEw3YFXi4l",
        "colab_type": "code",
        "colab": {
          "base_uri": "https://localhost:8080/",
          "height": 571
        },
        "outputId": "826bdb32-ef78-4a05-bb43-830f8d054b79"
      },
      "source": [
        "## Mais um pouco sobre funções\n",
        "def calculaFatorial1(x):\n",
        "  ret = 1\n",
        "\n",
        "  while x > 1:\n",
        "    ret *= x\n",
        "    x -= 1\n",
        "\n",
        "  return ret\n",
        "\n",
        "for paraCalcular in range(30):\n",
        "  print(f\"Calculo do Fatorial de {paraCalcular} é {calculaFatorial1(paraCalcular)}\")  \n",
        "\n"
      ],
      "execution_count": null,
      "outputs": [
        {
          "output_type": "stream",
          "text": [
            "Calculo do Fatorial de 0 é 1\n",
            "Calculo do Fatorial de 1 é 1\n",
            "Calculo do Fatorial de 2 é 2\n",
            "Calculo do Fatorial de 3 é 6\n",
            "Calculo do Fatorial de 4 é 24\n",
            "Calculo do Fatorial de 5 é 120\n",
            "Calculo do Fatorial de 6 é 720\n",
            "Calculo do Fatorial de 7 é 5040\n",
            "Calculo do Fatorial de 8 é 40320\n",
            "Calculo do Fatorial de 9 é 362880\n",
            "Calculo do Fatorial de 10 é 3628800\n",
            "Calculo do Fatorial de 11 é 39916800\n",
            "Calculo do Fatorial de 12 é 479001600\n",
            "Calculo do Fatorial de 13 é 6227020800\n",
            "Calculo do Fatorial de 14 é 87178291200\n",
            "Calculo do Fatorial de 15 é 1307674368000\n",
            "Calculo do Fatorial de 16 é 20922789888000\n",
            "Calculo do Fatorial de 17 é 355687428096000\n",
            "Calculo do Fatorial de 18 é 6402373705728000\n",
            "Calculo do Fatorial de 19 é 121645100408832000\n",
            "Calculo do Fatorial de 20 é 2432902008176640000\n",
            "Calculo do Fatorial de 21 é 51090942171709440000\n",
            "Calculo do Fatorial de 22 é 1124000727777607680000\n",
            "Calculo do Fatorial de 23 é 25852016738884976640000\n",
            "Calculo do Fatorial de 24 é 620448401733239439360000\n",
            "Calculo do Fatorial de 25 é 15511210043330985984000000\n",
            "Calculo do Fatorial de 26 é 403291461126605635584000000\n",
            "Calculo do Fatorial de 27 é 10888869450418352160768000000\n",
            "Calculo do Fatorial de 28 é 304888344611713860501504000000\n",
            "Calculo do Fatorial de 29 é 8841761993739701954543616000000\n"
          ],
          "name": "stdout"
        }
      ]
    },
    {
      "cell_type": "code",
      "metadata": {
        "id": "KCo_4BcBZK6a",
        "colab_type": "code",
        "colab": {
          "base_uri": "https://localhost:8080/",
          "height": 571
        },
        "outputId": "c492b0b8-f17e-4142-a328-45b1e5261e15"
      },
      "source": [
        "## Mais um pouco sobre funções\n",
        "def calculaFatorial2(x):\n",
        "  if x == 1 or x == 0:\n",
        "    return 1\n",
        "  return x * calculaFatorial2(x-1)\n",
        "\n",
        "for paraCalcular in range(30):\n",
        "  print(f\"Calculo do Fatorial de {paraCalcular} é {calculaFatorial2(paraCalcular)}\")"
      ],
      "execution_count": null,
      "outputs": [
        {
          "output_type": "stream",
          "text": [
            "Calculo do Fatorial de 0 é 1\n",
            "Calculo do Fatorial de 1 é 1\n",
            "Calculo do Fatorial de 2 é 2\n",
            "Calculo do Fatorial de 3 é 6\n",
            "Calculo do Fatorial de 4 é 24\n",
            "Calculo do Fatorial de 5 é 120\n",
            "Calculo do Fatorial de 6 é 720\n",
            "Calculo do Fatorial de 7 é 5040\n",
            "Calculo do Fatorial de 8 é 40320\n",
            "Calculo do Fatorial de 9 é 362880\n",
            "Calculo do Fatorial de 10 é 3628800\n",
            "Calculo do Fatorial de 11 é 39916800\n",
            "Calculo do Fatorial de 12 é 479001600\n",
            "Calculo do Fatorial de 13 é 6227020800\n",
            "Calculo do Fatorial de 14 é 87178291200\n",
            "Calculo do Fatorial de 15 é 1307674368000\n",
            "Calculo do Fatorial de 16 é 20922789888000\n",
            "Calculo do Fatorial de 17 é 355687428096000\n",
            "Calculo do Fatorial de 18 é 6402373705728000\n",
            "Calculo do Fatorial de 19 é 121645100408832000\n",
            "Calculo do Fatorial de 20 é 2432902008176640000\n",
            "Calculo do Fatorial de 21 é 51090942171709440000\n",
            "Calculo do Fatorial de 22 é 1124000727777607680000\n",
            "Calculo do Fatorial de 23 é 25852016738884976640000\n",
            "Calculo do Fatorial de 24 é 620448401733239439360000\n",
            "Calculo do Fatorial de 25 é 15511210043330985984000000\n",
            "Calculo do Fatorial de 26 é 403291461126605635584000000\n",
            "Calculo do Fatorial de 27 é 10888869450418352160768000000\n",
            "Calculo do Fatorial de 28 é 304888344611713860501504000000\n",
            "Calculo do Fatorial de 29 é 8841761993739701954543616000000\n"
          ],
          "name": "stdout"
        }
      ]
    },
    {
      "cell_type": "code",
      "metadata": {
        "id": "YeUerO8Qepcg",
        "colab_type": "code",
        "colab": {
          "base_uri": "https://localhost:8080/",
          "height": 295
        },
        "outputId": "259c7cd1-be4f-474f-b8ae-395c8b4091cd"
      },
      "source": [
        "## Mais um pouco sobre funções\n",
        "def calculaFatorial3(x, limite = 100):\n",
        "\n",
        "  if(x >= limite):\n",
        "    return 0\n",
        "\n",
        "  if x == 1 or x == 0:\n",
        "    return 1\n",
        "  return x * calculaFatorial2(x-1)\n",
        "\n",
        "for paraCalcular in range(95,103,1):\n",
        "  print(f\"Calculo do Fatorial de {paraCalcular} é {calculaFatorial3(paraCalcular)}\")\n",
        "print(\"==============\")\n",
        "print(f\"Calculo do Fatorial de {135} é {calculaFatorial3(135, limite=140)}\")  \n",
        "print(f\"Calculo do Fatorial de {135} é {calculaFatorial3(135, limite=90)}\")  \n",
        "print(f\"Calculo do Fatorial de {140} é {calculaFatorial3(140, 141)}\")  \n",
        "print(f\"Calculo do Fatorial de {40} é {calculaFatorial3(limite=40, x=40)}\")  \n",
        "print(f\"Calculo do Fatorial de {40} é {calculaFatorial3(limite=41, x=40)}\")  "
      ],
      "execution_count": null,
      "outputs": [
        {
          "output_type": "stream",
          "text": [
            "Calculo do Fatorial de 95 é 10329978488239059262599702099394727095397746340117372869212250571234293987594703124871765375385424468563282236864226607350415360000000000000000000000\n",
            "Calculo do Fatorial de 96 é 991677934870949689209571401541893801158183648651267795444376054838492222809091499987689476037000748982075094738965754305639874560000000000000000000000\n",
            "Calculo do Fatorial de 97 é 96192759682482119853328425949563698712343813919172976158104477319333745612481875498805879175589072651261284189679678167647067832320000000000000000000000\n",
            "Calculo do Fatorial de 98 é 9426890448883247745626185743057242473809693764078951663494238777294707070023223798882976159207729119823605850588608460429412647567360000000000000000000000\n",
            "Calculo do Fatorial de 99 é 933262154439441526816992388562667004907159682643816214685929638952175999932299156089414639761565182862536979208272237582511852109168640000000000000000000000\n",
            "Calculo do Fatorial de 100 é 0\n",
            "Calculo do Fatorial de 101 é 0\n",
            "Calculo do Fatorial de 102 é 0\n",
            "==============\n",
            "Calculo do Fatorial de 135 é 269047270731805048359538766214698040105045389351586221736204522804449923397715020396880405635308734616403531106012657072342441706813847832724067538531441988500432417475151165166281874370655623839744000000000000000000000000000000000\n",
            "Calculo do Fatorial de 135 é 0\n",
            "Calculo do Fatorial de 140 é 13462012475717524605876073858941615558355851148193967190051391468057460367090535696797920946629681836680869097041958983702264048370902871114013579941370766400374327741701139895604871545254810788060989321379840000000000000000000000000000000000\n",
            "Calculo do Fatorial de 40 é 0\n",
            "Calculo do Fatorial de 40 é 815915283247897734345611269596115894272000000000\n"
          ],
          "name": "stdout"
        }
      ]
    },
    {
      "cell_type": "code",
      "metadata": {
        "id": "iBlCyMeLj-Dx",
        "colab_type": "code",
        "colab": {
          "base_uri": "https://localhost:8080/",
          "height": 35
        },
        "outputId": "0bf88990-cc84-46a1-d6d1-ee233ce98295"
      },
      "source": [
        "# Meu primeiro dicionário em Python \n",
        "dicionario_usado =\t{\n",
        "  \"brand\": \"Ford\",\n",
        "  \"model\": \"Mustang\",\n",
        "  \"year\": 1964,\n",
        "  \"outro\" : {\"year\": \"2020\"},\n",
        "  100 : \"Nem sei mais o que é ...\",\n",
        "  True: 200,\n",
        "  False: 300\n",
        "}\n",
        "print(dicionario_usado)"
      ],
      "execution_count": null,
      "outputs": [
        {
          "output_type": "stream",
          "text": [
            "{'brand': 'Ford', 'model': 'Mustang', 'year': 1964, 'outro': {'year': '2020'}, 100: 'Nem sei mais o que é ...', True: 200, False: 300}\n"
          ],
          "name": "stdout"
        }
      ]
    },
    {
      "cell_type": "code",
      "metadata": {
        "id": "OAH5mKVdcqAf",
        "colab_type": "code",
        "colab": {
          "base_uri": "https://localhost:8080/",
          "height": 90
        },
        "outputId": "20d073ff-76f9-4ee5-b3ce-b98c8db3db22"
      },
      "source": [
        "# Acessando os elementos\n",
        "carro =\t{\n",
        "  \"marca\": \"Ford\",\n",
        "  \"modelo\": \"Mustang\",\n",
        "  \"ano\": 1964,\n",
        "  1: \"1 ano\",\n",
        "  2: \"2,5 anos\"\n",
        "  }\n",
        "print(carro['ano'])\n",
        "print(carro[\"ano\"])\n",
        "print(carro['modelo'])\n",
        "print(carro[1])\n",
        "\n"
      ],
      "execution_count": null,
      "outputs": [
        {
          "output_type": "stream",
          "text": [
            "1964\n",
            "1964\n",
            "Mustang\n",
            "1 ano\n"
          ],
          "name": "stdout"
        }
      ]
    },
    {
      "cell_type": "code",
      "metadata": {
        "id": "CnDNpbqIdVlW",
        "colab_type": "code",
        "colab": {
          "base_uri": "https://localhost:8080/",
          "height": 289
        },
        "outputId": "3e83663e-9ca2-4e05-e337-5a8787dbd54c"
      },
      "source": [
        "# Enumerando os itens do dicionário\n",
        "contabilidade = {\n",
        "    \"Joaquim\" : 100.05,\n",
        "    \"Barbão\" : 550.45,\n",
        "    \"Lorenço\" : 1325.66\n",
        "}\n",
        "## Cada item do dicionário/mapa ele é formato por chave e valor. Valor pode ser\n",
        "## qualquer coisa, inclusive um outro mapa.\n",
        "\n",
        "for key1 in contabilidade:\n",
        "  print (\"Somente o objeto\", key1, \" - Pegando o Valor => \" , contabilidade[key1])\n",
        "\n",
        "for key2 in contabilidade.keys():\n",
        "  print (\"Objeto.keys() - \", key2, \" - Pegando o Valor => \" , contabilidade[key2])\n",
        "\n",
        "for valor1 in contabilidade.values():\n",
        "  print (\"Objeto.values() - \", valor1)\n",
        "\n",
        "for item in contabilidade.items():\n",
        "  print (\"Objeto.items() - \", item)\n",
        "\n",
        "for (chave, valor) in contabilidade.items():\n",
        "  print (\"Objeto.items() - \", chave, valor)\n"
      ],
      "execution_count": null,
      "outputs": [
        {
          "output_type": "stream",
          "text": [
            "Somente o objeto Joaquim  - Pegando o Valor =>  100.05\n",
            "Somente o objeto Barbão  - Pegando o Valor =>  550.45\n",
            "Somente o objeto Lorenço  - Pegando o Valor =>  1325.66\n",
            "Objeto.keys() -  Joaquim  - Pegando o Valor =>  100.05\n",
            "Objeto.keys() -  Barbão  - Pegando o Valor =>  550.45\n",
            "Objeto.keys() -  Lorenço  - Pegando o Valor =>  1325.66\n",
            "Objeto.values() -  100.05\n",
            "Objeto.values() -  550.45\n",
            "Objeto.values() -  1325.66\n",
            "Objeto.items() -  ('Joaquim', 100.05)\n",
            "Objeto.items() -  ('Barbão', 550.45)\n",
            "Objeto.items() -  ('Lorenço', 1325.66)\n",
            "Objeto.items() -  Joaquim 100.05\n",
            "Objeto.items() -  Barbão 550.45\n",
            "Objeto.items() -  Lorenço 1325.66\n"
          ],
          "name": "stdout"
        }
      ]
    },
    {
      "cell_type": "code",
      "metadata": {
        "id": "6qhd-iSbdaI8",
        "colab_type": "code",
        "colab": {
          "base_uri": "https://localhost:8080/",
          "height": 53
        },
        "outputId": "41be24f9-8313-4051-f35f-17ea7edc295b"
      },
      "source": [
        "import random as rnd\n",
        "import math\n",
        "\n",
        "# Caso de uso de um dicionário : Histograma de lançamento de dados\n",
        "resumo = {}\n",
        "total_lancamentos = 1000\n",
        "lancamentos_dados = [ rnd.randrange(1, 7) for i in range(total_lancamentos)]\n",
        "\n",
        "for lancamento in lancamentos_dados :\n",
        "  resumo[lancamento] = resumo.get(lancamento, 0) + 1\n",
        "\n",
        "print( resumo )\n",
        "\n",
        "resumo_percentual = {}\n",
        "for item_resumo in resumo.keys():\n",
        "  resumo_percentual[item_resumo] = 100.0 * ( resumo[item_resumo] / total_lancamentos )\n",
        "\n",
        "print(resumo_percentual)"
      ],
      "execution_count": null,
      "outputs": [
        {
          "output_type": "stream",
          "text": [
            "{6: 172, 2: 164, 5: 163, 1: 156, 3: 167, 4: 178}\n",
            "{6: 17.2, 2: 16.400000000000002, 5: 16.3, 1: 15.6, 3: 16.7, 4: 17.8}\n"
          ],
          "name": "stdout"
        }
      ]
    }
  ]
}