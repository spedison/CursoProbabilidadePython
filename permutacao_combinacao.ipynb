{
  "nbformat": 4,
  "nbformat_minor": 0,
  "metadata": {
    "colab": {
      "name": "permutacao_combinacao",
      "provenance": [],
      "collapsed_sections": [],
      "authorship_tag": "ABX9TyMT1HY6YDB0WadNySbso9sC",
      "include_colab_link": true
    },
    "kernelspec": {
      "name": "python3",
      "display_name": "Python 3"
    }
  },
  "cells": [
    {
      "cell_type": "markdown",
      "metadata": {
        "id": "view-in-github",
        "colab_type": "text"
      },
      "source": [
        "<a href=\"https://colab.research.google.com/github/spedison/CursoProbabilidadePython/blob/master/permutacao_combinacao.ipynb\" target=\"_parent\"><img src=\"https://colab.research.google.com/assets/colab-badge.svg\" alt=\"Open In Colab\"/></a>"
      ]
    },
    {
      "cell_type": "code",
      "metadata": {
        "id": "cf1fHefyb6h0",
        "colab_type": "code",
        "colab": {
          "base_uri": "https://localhost:8080/",
          "height": 130
        },
        "outputId": "98281551-86d1-42ca-8df9-fda90066d154"
      },
      "source": [
        "## Função que realiza a permutação (sem repetição)\n",
        "## Baseada em : https://www.ime.usp.br/~pf/mac0122-2003/aulas/permut.html\n",
        "def PermutacaoRecursiva( itens, possibilidades, k = 0):\n",
        "\n",
        "  tamanho = len( itens )\n",
        "\n",
        "  if k == tamanho:\n",
        "    possibilidades.append(itens)\n",
        "  else:\n",
        "    for i in range(k, tamanho, 1):\n",
        "      (itens[i], itens[k]) = (itens[k], itens[i])\n",
        "      PermutacaoRecursiva(itens[:], possibilidades, k + 1);\n",
        "      (itens[i], itens[k]) = (itens[k], itens[i])\n",
        "\n",
        "entrada = [1, 2, 3]\n",
        "resultadosPossiveis = []\n",
        "PermutacaoRecursiva(entrada, resultadosPossiveis)\n",
        "linha = 0\n",
        "for i in resultadosPossiveis:\n",
        "  linha += 1\n",
        "  print(\"(\", linha, \")\", i, sep=\"\", end=\"\\n\")"
      ],
      "execution_count": 17,
      "outputs": [
        {
          "output_type": "stream",
          "text": [
            "(1)[1, 2, 3]\n",
            "(2)[1, 3, 2]\n",
            "(3)[2, 1, 3]\n",
            "(4)[2, 3, 1]\n",
            "(5)[3, 2, 1]\n",
            "(6)[3, 1, 2]\n"
          ],
          "name": "stdout"
        }
      ]
    },
    {
      "cell_type": "code",
      "metadata": {
        "id": "yzcvFA3rvuBP",
        "colab_type": "code",
        "colab": {
          "base_uri": "https://localhost:8080/",
          "height": 93
        },
        "outputId": "3a27b279-44d8-46d1-c92c-2c32ac62c933"
      },
      "source": [
        "## Baseado em https://www.it-swarm.dev/pt/java/algoritmo-de-permutacao-sem-recursao-java/970071942/\n",
        "def imprimePermutacao(itens, resultados) :\n",
        "\n",
        "  factorials = [1] \n",
        "  for  i in range (1,len(itens)+1,1):\n",
        "    factorials.append (factorials[i-1] * i)\n",
        "  ## O resultado aqui é [ 1, 1, 2, 6, 24, 120 ...]\n",
        "  ## Lembrando que o fatorial de 0 é 1  \n",
        "  \n",
        "  ## Sei que terei que executar um loop N! vezes onde N é o número de elementos.\n",
        "  for i in range(0,factorials[len(itens)]):\n",
        "    onePermutation=[]\n",
        "    temp = itens[:]\n",
        "    positionCode = i\n",
        "    for position in range(len(itens),0,-1):\n",
        "      selected = positionCode // factorials[position-1]\n",
        "      onePermutation.append( temp[selected] )\n",
        "      positionCode = positionCode % factorials[position-1]\n",
        "      temp = temp[0:selected] + temp[selected+1:]\n",
        "\n",
        "    resultados.append(onePermutation[:])\n",
        "\n",
        "\n",
        "\n",
        "resultados = []\n",
        "imprimePermutacao([\"A\",\"B\",\"C\",\"K\"], resultados)\n",
        "print(resultados)\n",
        "\n",
        "resultados = []\n",
        "imprimePermutacao(\"123\", resultados)\n",
        "print(resultados)\n",
        "\n",
        "resultados = []\n",
        "imprimePermutacao([1,2,3,5], resultados)\n",
        "print(resultados)\n",
        "\n"
      ],
      "execution_count": null,
      "outputs": [
        {
          "output_type": "stream",
          "text": [
            "[['A', 'B', 'C', 'K'], ['A', 'B', 'K', 'C'], ['A', 'C', 'B', 'K'], ['A', 'C', 'K', 'B'], ['A', 'K', 'B', 'C'], ['A', 'K', 'C', 'B'], ['B', 'A', 'C', 'K'], ['B', 'A', 'K', 'C'], ['B', 'C', 'A', 'K'], ['B', 'C', 'K', 'A'], ['B', 'K', 'A', 'C'], ['B', 'K', 'C', 'A'], ['C', 'A', 'B', 'K'], ['C', 'A', 'K', 'B'], ['C', 'B', 'A', 'K'], ['C', 'B', 'K', 'A'], ['C', 'K', 'A', 'B'], ['C', 'K', 'B', 'A'], ['K', 'A', 'B', 'C'], ['K', 'A', 'C', 'B'], ['K', 'B', 'A', 'C'], ['K', 'B', 'C', 'A'], ['K', 'C', 'A', 'B'], ['K', 'C', 'B', 'A']]\n",
            "[['1', '2', '3'], ['1', '3', '2'], ['2', '1', '3'], ['2', '3', '1'], ['3', '1', '2'], ['3', '2', '1']]\n",
            "[[1, 2, 3, 5], [1, 2, 5, 3], [1, 3, 2, 5], [1, 3, 5, 2], [1, 5, 2, 3], [1, 5, 3, 2], [2, 1, 3, 5], [2, 1, 5, 3], [2, 3, 1, 5], [2, 3, 5, 1], [2, 5, 1, 3], [2, 5, 3, 1], [3, 1, 2, 5], [3, 1, 5, 2], [3, 2, 1, 5], [3, 2, 5, 1], [3, 5, 1, 2], [3, 5, 2, 1], [5, 1, 2, 3], [5, 1, 3, 2], [5, 2, 1, 3], [5, 2, 3, 1], [5, 3, 1, 2], [5, 3, 2, 1]]\n"
          ],
          "name": "stdout"
        }
      ]
    },
    {
      "cell_type": "code",
      "metadata": {
        "id": "diQ_0qrEwHV0",
        "colab_type": "code",
        "colab": {
          "base_uri": "https://localhost:8080/",
          "height": 36
        },
        "outputId": "df9cd4a2-db91-45e5-d735-1f8918417489"
      },
      "source": [
        "a = \"123\"\n",
        "len(a)"
      ],
      "execution_count": null,
      "outputs": [
        {
          "output_type": "execute_result",
          "data": {
            "text/plain": [
              "3"
            ]
          },
          "metadata": {
            "tags": []
          },
          "execution_count": 27
        }
      ]
    },
    {
      "cell_type": "code",
      "metadata": {
        "id": "LItiinjeLpms",
        "colab_type": "code",
        "colab": {
          "base_uri": "https://localhost:8080/",
          "height": 55
        },
        "outputId": "57732f94-e6f2-4741-aa15-36fc9f200ecc"
      },
      "source": [
        "## Gerando contagem de elementos\n",
        "def gerandoContagem(elementos, numeroCasas):\n",
        "\n",
        "  possibilidades = []  \n",
        "  possibilidades.append([elementos[0] for i in range(numeroCasas)])\n",
        "\n",
        "  posicao = 0\n",
        "  mapaPosicao = {}\n",
        "\n",
        "  for elemento in elementos:\n",
        "    mapaPosicao[elemento] = posicao\n",
        "    posicao += 1\n",
        "\n",
        "  linha = possibilidades[0][:]\n",
        "\n",
        "  for i in range ( (len(elementos)**numeroCasas) - 1):\n",
        "    vaiUm = True\n",
        "    posicao = 0\n",
        "    while vaiUm and posicao < numeroCasas :\n",
        "      linha[posicao] = elementos[ ( mapaPosicao[linha[posicao]] + 1 ) % len(elementos) ]\n",
        "      vaiUm = mapaPosicao[linha[posicao]] == 0\n",
        "      posicao += 1\n",
        "    possibilidades.append(linha[:])\n",
        "        \n",
        "\n",
        "  return possibilidades\n",
        "\n",
        "\n",
        "possibilidadeContagem = gerandoContagem(['k', 'w'], 3)\n",
        "\n",
        "print (len(possibilidadeContagem))\n",
        "print (possibilidadeContagem)"
      ],
      "execution_count": 10,
      "outputs": [
        {
          "output_type": "stream",
          "text": [
            "8\n",
            "[['k', 'k', 'k'], ['w', 'k', 'k'], ['k', 'w', 'k'], ['w', 'w', 'k'], ['k', 'k', 'w'], ['w', 'k', 'w'], ['k', 'w', 'w'], ['w', 'w', 'w']]\n"
          ],
          "name": "stdout"
        }
      ]
    },
    {
      "cell_type": "code",
      "metadata": {
        "id": "_S9rk0vOm0Va",
        "colab_type": "code",
        "colab": {
          "base_uri": "https://localhost:8080/",
          "height": 55
        },
        "outputId": "9d6f8938-2d07-452a-d930-bc73b06364df"
      },
      "source": [
        "## Gerando contagem de elementos (versão mais simples)\n",
        "\n",
        "def somaUmPasso(atual, fim, casa = 0):\n",
        "    atual[casa] += 1\n",
        "    if atual[casa] >= fim:\n",
        "        atual[casa] = 0\n",
        "        somaUmPasso(atual, fim, casa + 1)\n",
        "     \n",
        "def gerandoContagem(n, k):\n",
        "\n",
        "  possibilidades = []  \n",
        "  possibilidades.append([0 for i in range(k)])\n",
        "\n",
        "  posicao = 0\n",
        "\n",
        "  linha = possibilidades[0][:]\n",
        "\n",
        "  for i in range ( (n**k) - 1):\n",
        "    somaUmPasso(linha, n)\n",
        "    possibilidades.append(linha[:])\n",
        "\n",
        "  return possibilidades\n",
        "\n",
        "\n",
        "possibilidadeContagem = gerandoContagem(5, 2)\n",
        "\n",
        "print (len(possibilidadeContagem))\n",
        "print (possibilidadeContagem)"
      ],
      "execution_count": 11,
      "outputs": [
        {
          "output_type": "stream",
          "text": [
            "25\n",
            "[[0, 0], [1, 0], [2, 0], [3, 0], [4, 0], [0, 1], [1, 1], [2, 1], [3, 1], [4, 1], [0, 2], [1, 2], [2, 2], [3, 2], [4, 2], [0, 3], [1, 3], [2, 3], [3, 3], [4, 3], [0, 4], [1, 4], [2, 4], [3, 4], [4, 4]]\n"
          ],
          "name": "stdout"
        }
      ]
    },
    {
      "cell_type": "code",
      "metadata": {
        "id": "MWcdBZ5FSayT",
        "colab_type": "code",
        "colab": {
          "base_uri": "https://localhost:8080/",
          "height": 36
        },
        "outputId": "d4bcb38e-1b94-4118-81c7-f92cc0751d36"
      },
      "source": [
        "# Gerando Arranjos, funções acessórias.\n",
        "def calculaFatorial(n):\n",
        "    retorno = 1\n",
        "    for i in range(2, n + 1, 1):\n",
        "        retorno *= i\n",
        "    return retorno\n",
        "\n",
        "\n",
        "def calcularQuantidadeCombinacoes(n, k):\n",
        "    return calculaFatorial(n) // (calculaFatorial(n - k) * calculaFatorial(k))\n",
        "\n",
        "# Gerando Arranjos, função recursiva para dar um passo.\n",
        "def somaUmPasso(atual, casa, fim):\n",
        "    atual[casa] += 1\n",
        "    if atual[casa] > fim:\n",
        "        somaUmPasso(atual, casa + 1, fim - 1)\n",
        "        atual[casa] = atual[casa + 1] + 1\n",
        "\n",
        "# Gerando Arranjos, função que evolui todos os passos.\n",
        "def geraTodasCombinacoes(n, k):\n",
        "    ## Gera a matrix de combinações possíveis.\n",
        "    respostas = []\n",
        "    ## Gera a primeira combinação\n",
        "    atual = [i for i in range(k - 1, -1, -1)]\n",
        "    # Coloca na resposta.\n",
        "    respostas.append(atual[:])\n",
        "    # Calcula a quantidade de loops necessários...\n",
        "    limite = calcularQuantidadeCombinacoes(n, k) - 1\n",
        "    for i in range(limite):\n",
        "        # incrementa\n",
        "        somaUmPasso(atual, casa=0, fim=n - 1)\n",
        "        respostas.append(atual[:])\n",
        "    return respostas\n",
        "\n",
        "print(geraTodasCombinacoes(5, 4))\n",
        "\n"
      ],
      "execution_count": 15,
      "outputs": [
        {
          "output_type": "stream",
          "text": [
            "[[3, 2, 1, 0], [4, 2, 1, 0], [4, 3, 1, 0], [4, 3, 2, 0], [4, 3, 2, 1]]\n"
          ],
          "name": "stdout"
        }
      ]
    },
    {
      "cell_type": "code",
      "metadata": {
        "id": "k1qkPoOnNmhW",
        "colab_type": "code",
        "colab": {
          "base_uri": "https://localhost:8080/",
          "height": 55
        },
        "outputId": "d0cac044-d855-4640-d2d2-f721c57eb0ee"
      },
      "source": [
        "## Complementando o anterior, para que possamos combinar quaisquer conjuntos\n",
        "def converteCombinacoesEmConjuntos(posicionamentos, elementos):\n",
        "    conjuntoSaida = []\n",
        "    for i in range(len(posicionamentos)):\n",
        "        conjuntoSaida.append([elementos[k] for k in posicionamentos[i]])\n",
        "    return conjuntoSaida\n",
        "\n",
        "conjuntoUsado = [\"a\", \"b\", \"c\"]\n",
        "arrCombinacoes = geraTodasCombinacoes(len(conjuntoUsado), 2)\n",
        "\n",
        "print(arrCombinacoes)\n",
        "print(converteCombinacoesEmConjuntos(arrCombinacoes, conjuntoUsado))"
      ],
      "execution_count": 16,
      "outputs": [
        {
          "output_type": "stream",
          "text": [
            "[[1, 0], [2, 0], [2, 1]]\n",
            "[['b', 'a'], ['c', 'a'], ['c', 'b']]\n"
          ],
          "name": "stdout"
        }
      ]
    },
    {
      "cell_type": "code",
      "metadata": {
        "id": "oJqsixUI4Ezw",
        "colab_type": "code",
        "colab": {
          "base_uri": "https://localhost:8080/",
          "height": 75
        },
        "outputId": "ebc61ecf-53a0-4fd1-b52a-59c1c69db314"
      },
      "source": [
        "## Como fica o Arranjo (ABC) <> (BCA) ??\n",
        "## Tarefa : Gerar um conjunto (0,1,2,3,4) tomados de 3 em 3 e ...\n",
        "## ... gerar todas as arranjos possíveis (sem repetir) utilizando as combinações e permutação que já implementamos\n",
        "\n",
        "combinacoes = geraTodasCombinacoes(5, 3)\n",
        "saidaProcessamento = [] \n",
        "for combinacao in combinacoes:\n",
        "  permutas = [] \n",
        "  PermutacaoRecursiva(combinacao, permutas)\n",
        "  for itemPermutas in permutas:\n",
        "    saidaProcessamento.append(itemPermutas)\n",
        "\n",
        "print(saidaProcessamento)\n",
        "print(len(saidaProcessamento))\n",
        "\n",
        "\n",
        "\n"
      ],
      "execution_count": 22,
      "outputs": [
        {
          "output_type": "stream",
          "text": [
            "[[2, 1, 0], [2, 0, 1], [1, 2, 0], [1, 0, 2], [0, 1, 2], [0, 2, 1], [3, 1, 0], [3, 0, 1], [1, 3, 0], [1, 0, 3], [0, 1, 3], [0, 3, 1], [4, 1, 0], [4, 0, 1], [1, 4, 0], [1, 0, 4], [0, 1, 4], [0, 4, 1], [3, 2, 0], [3, 0, 2], [2, 3, 0], [2, 0, 3], [0, 2, 3], [0, 3, 2], [4, 2, 0], [4, 0, 2], [2, 4, 0], [2, 0, 4], [0, 2, 4], [0, 4, 2], [4, 3, 0], [4, 0, 3], [3, 4, 0], [3, 0, 4], [0, 3, 4], [0, 4, 3], [3, 2, 1], [3, 1, 2], [2, 3, 1], [2, 1, 3], [1, 2, 3], [1, 3, 2], [4, 2, 1], [4, 1, 2], [2, 4, 1], [2, 1, 4], [1, 2, 4], [1, 4, 2], [4, 3, 1], [4, 1, 3], [3, 4, 1], [3, 1, 4], [1, 3, 4], [1, 4, 3], [4, 3, 2], [4, 2, 3], [3, 4, 2], [3, 2, 4], [2, 3, 4], [2, 4, 3]]\n",
            "60\n"
          ],
          "name": "stdout"
        }
      ]
    }
  ]
}